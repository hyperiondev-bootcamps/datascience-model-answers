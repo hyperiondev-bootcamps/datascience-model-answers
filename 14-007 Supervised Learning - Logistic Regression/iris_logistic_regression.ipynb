{
 "cells": [
  {
   "cell_type": "markdown",
   "id": "73eca0a4",
   "metadata": {
    "id": "73eca0a4"
   },
   "source": [
    "# Model Answer: Logistic Regression Model\n",
    "## Practical Task: Iris-setosa and Not-Iris-setosa Classification"
   ]
  },
  {
   "cell_type": "code",
   "execution_count": 1,
   "id": "d83bf74b",
   "metadata": {
    "id": "d83bf74b"
   },
   "outputs": [],
   "source": [
    "# Import necessary libraries\n",
    "import pandas as pd\n",
    "import numpy as np\n",
    "import matplotlib.pyplot as plt\n",
    "import seaborn as sns\n",
    "\n",
    "from sklearn.model_selection import train_test_split\n",
    "from sklearn import preprocessing\n",
    "from sklearn.linear_model import LogisticRegression\n",
    "from sklearn.metrics import confusion_matrix, classification_report\n",
    "from sklearn.metrics import accuracy_score, recall_score, precision_score"
   ]
  },
  {
   "cell_type": "code",
   "execution_count": 2,
   "id": "97c43514",
   "metadata": {
    "id": "97c43514",
    "outputId": "c27026e5-c555-4179-dc3d-d795205c5627"
   },
   "outputs": [
    {
     "data": {
      "text/html": [
       "<div>\n",
       "<style scoped>\n",
       "    .dataframe tbody tr th:only-of-type {\n",
       "        vertical-align: middle;\n",
       "    }\n",
       "\n",
       "    .dataframe tbody tr th {\n",
       "        vertical-align: top;\n",
       "    }\n",
       "\n",
       "    .dataframe thead th {\n",
       "        text-align: right;\n",
       "    }\n",
       "</style>\n",
       "<table border=\"1\" class=\"dataframe\">\n",
       "  <thead>\n",
       "    <tr style=\"text-align: right;\">\n",
       "      <th></th>\n",
       "      <th>Id</th>\n",
       "      <th>SepalLengthCm</th>\n",
       "      <th>SepalWidthCm</th>\n",
       "      <th>PetalLengthCm</th>\n",
       "      <th>PetalWidthCm</th>\n",
       "      <th>Species</th>\n",
       "    </tr>\n",
       "  </thead>\n",
       "  <tbody>\n",
       "    <tr>\n",
       "      <th>0</th>\n",
       "      <td>1</td>\n",
       "      <td>5.1</td>\n",
       "      <td>3.5</td>\n",
       "      <td>1.4</td>\n",
       "      <td>0.2</td>\n",
       "      <td>Iris-setosa</td>\n",
       "    </tr>\n",
       "    <tr>\n",
       "      <th>1</th>\n",
       "      <td>2</td>\n",
       "      <td>4.9</td>\n",
       "      <td>3.0</td>\n",
       "      <td>1.4</td>\n",
       "      <td>0.2</td>\n",
       "      <td>Iris-setosa</td>\n",
       "    </tr>\n",
       "    <tr>\n",
       "      <th>2</th>\n",
       "      <td>3</td>\n",
       "      <td>4.7</td>\n",
       "      <td>3.2</td>\n",
       "      <td>1.3</td>\n",
       "      <td>0.2</td>\n",
       "      <td>Iris-setosa</td>\n",
       "    </tr>\n",
       "    <tr>\n",
       "      <th>3</th>\n",
       "      <td>4</td>\n",
       "      <td>4.6</td>\n",
       "      <td>3.1</td>\n",
       "      <td>1.5</td>\n",
       "      <td>0.2</td>\n",
       "      <td>Iris-setosa</td>\n",
       "    </tr>\n",
       "    <tr>\n",
       "      <th>4</th>\n",
       "      <td>5</td>\n",
       "      <td>5.0</td>\n",
       "      <td>3.6</td>\n",
       "      <td>1.4</td>\n",
       "      <td>0.2</td>\n",
       "      <td>Iris-setosa</td>\n",
       "    </tr>\n",
       "  </tbody>\n",
       "</table>\n",
       "</div>"
      ],
      "text/plain": [
       "   Id  SepalLengthCm  SepalWidthCm  PetalLengthCm  PetalWidthCm      Species\n",
       "0   1            5.1           3.5            1.4           0.2  Iris-setosa\n",
       "1   2            4.9           3.0            1.4           0.2  Iris-setosa\n",
       "2   3            4.7           3.2            1.3           0.2  Iris-setosa\n",
       "3   4            4.6           3.1            1.5           0.2  Iris-setosa\n",
       "4   5            5.0           3.6            1.4           0.2  Iris-setosa"
      ]
     },
     "execution_count": 2,
     "metadata": {},
     "output_type": "execute_result"
    }
   ],
   "source": [
    "# Load the CSV file into a DataFrame\n",
    "iris = pd.read_csv(\"Iris.csv\")\n",
    "iris.head()"
   ]
  },
  {
   "cell_type": "code",
   "execution_count": 3,
   "id": "b635267d",
   "metadata": {
    "id": "b635267d",
    "outputId": "9ef19658-89da-43d9-f983-62b2885425f4"
   },
   "outputs": [
    {
     "name": "stdout",
     "output_type": "stream",
     "text": [
      "<class 'pandas.core.frame.DataFrame'>\n",
      "RangeIndex: 150 entries, 0 to 149\n",
      "Data columns (total 6 columns):\n",
      " #   Column         Non-Null Count  Dtype  \n",
      "---  ------         --------------  -----  \n",
      " 0   Id             150 non-null    int64  \n",
      " 1   SepalLengthCm  150 non-null    float64\n",
      " 2   SepalWidthCm   150 non-null    float64\n",
      " 3   PetalLengthCm  150 non-null    float64\n",
      " 4   PetalWidthCm   150 non-null    float64\n",
      " 5   Species        150 non-null    object \n",
      "dtypes: float64(4), int64(1), object(1)\n",
      "memory usage: 7.2+ KB\n"
     ]
    }
   ],
   "source": [
    "# Display an overview of the dataset\n",
    "iris.info()"
   ]
  },
  {
   "cell_type": "code",
   "execution_count": 4,
   "id": "84891951",
   "metadata": {
    "id": "84891951",
    "outputId": "ef6be21e-9471-4722-e004-c180bd4b1cf8"
   },
   "outputs": [
    {
     "data": {
      "text/html": [
       "<div>\n",
       "<style scoped>\n",
       "    .dataframe tbody tr th:only-of-type {\n",
       "        vertical-align: middle;\n",
       "    }\n",
       "\n",
       "    .dataframe tbody tr th {\n",
       "        vertical-align: top;\n",
       "    }\n",
       "\n",
       "    .dataframe thead th {\n",
       "        text-align: right;\n",
       "    }\n",
       "</style>\n",
       "<table border=\"1\" class=\"dataframe\">\n",
       "  <thead>\n",
       "    <tr style=\"text-align: right;\">\n",
       "      <th></th>\n",
       "      <th>Id</th>\n",
       "      <th>SepalLengthCm</th>\n",
       "      <th>SepalWidthCm</th>\n",
       "      <th>PetalLengthCm</th>\n",
       "      <th>PetalWidthCm</th>\n",
       "    </tr>\n",
       "  </thead>\n",
       "  <tbody>\n",
       "    <tr>\n",
       "      <th>count</th>\n",
       "      <td>150.000000</td>\n",
       "      <td>150.000000</td>\n",
       "      <td>150.000000</td>\n",
       "      <td>150.000000</td>\n",
       "      <td>150.000000</td>\n",
       "    </tr>\n",
       "    <tr>\n",
       "      <th>mean</th>\n",
       "      <td>75.500000</td>\n",
       "      <td>5.843333</td>\n",
       "      <td>3.054000</td>\n",
       "      <td>3.758667</td>\n",
       "      <td>1.198667</td>\n",
       "    </tr>\n",
       "    <tr>\n",
       "      <th>std</th>\n",
       "      <td>43.445368</td>\n",
       "      <td>0.828066</td>\n",
       "      <td>0.433594</td>\n",
       "      <td>1.764420</td>\n",
       "      <td>0.763161</td>\n",
       "    </tr>\n",
       "    <tr>\n",
       "      <th>min</th>\n",
       "      <td>1.000000</td>\n",
       "      <td>4.300000</td>\n",
       "      <td>2.000000</td>\n",
       "      <td>1.000000</td>\n",
       "      <td>0.100000</td>\n",
       "    </tr>\n",
       "    <tr>\n",
       "      <th>25%</th>\n",
       "      <td>38.250000</td>\n",
       "      <td>5.100000</td>\n",
       "      <td>2.800000</td>\n",
       "      <td>1.600000</td>\n",
       "      <td>0.300000</td>\n",
       "    </tr>\n",
       "    <tr>\n",
       "      <th>50%</th>\n",
       "      <td>75.500000</td>\n",
       "      <td>5.800000</td>\n",
       "      <td>3.000000</td>\n",
       "      <td>4.350000</td>\n",
       "      <td>1.300000</td>\n",
       "    </tr>\n",
       "    <tr>\n",
       "      <th>75%</th>\n",
       "      <td>112.750000</td>\n",
       "      <td>6.400000</td>\n",
       "      <td>3.300000</td>\n",
       "      <td>5.100000</td>\n",
       "      <td>1.800000</td>\n",
       "    </tr>\n",
       "    <tr>\n",
       "      <th>max</th>\n",
       "      <td>150.000000</td>\n",
       "      <td>7.900000</td>\n",
       "      <td>4.400000</td>\n",
       "      <td>6.900000</td>\n",
       "      <td>2.500000</td>\n",
       "    </tr>\n",
       "  </tbody>\n",
       "</table>\n",
       "</div>"
      ],
      "text/plain": [
       "               Id  SepalLengthCm  SepalWidthCm  PetalLengthCm  PetalWidthCm\n",
       "count  150.000000     150.000000    150.000000     150.000000    150.000000\n",
       "mean    75.500000       5.843333      3.054000       3.758667      1.198667\n",
       "std     43.445368       0.828066      0.433594       1.764420      0.763161\n",
       "min      1.000000       4.300000      2.000000       1.000000      0.100000\n",
       "25%     38.250000       5.100000      2.800000       1.600000      0.300000\n",
       "50%     75.500000       5.800000      3.000000       4.350000      1.300000\n",
       "75%    112.750000       6.400000      3.300000       5.100000      1.800000\n",
       "max    150.000000       7.900000      4.400000       6.900000      2.500000"
      ]
     },
     "execution_count": 4,
     "metadata": {},
     "output_type": "execute_result"
    }
   ],
   "source": [
    "# Generate descriptive statistics for the dataset\n",
    "iris.describe()"
   ]
  },
  {
   "cell_type": "code",
   "execution_count": 5,
   "id": "e715a09a",
   "metadata": {
    "id": "e715a09a",
    "outputId": "b9a8d11e-e1e9-471a-cca4-854c9d55fdd9"
   },
   "outputs": [
    {
     "data": {
      "text/plain": [
       "Species\n",
       "Iris-setosa        50\n",
       "Iris-versicolor    50\n",
       "Iris-virginica     50\n",
       "Name: count, dtype: int64"
      ]
     },
     "execution_count": 5,
     "metadata": {},
     "output_type": "execute_result"
    }
   ],
   "source": [
    "# Count the occurrences of each unique value in the 'Species' column\n",
    "iris[\"Species\"].value_counts()"
   ]
  },
  {
   "cell_type": "markdown",
   "id": "9afca952",
   "metadata": {
    "id": "9afca952"
   },
   "source": [
    "## Iris-setosa and Not-Iris-setosa Classification"
   ]
  },
  {
   "cell_type": "code",
   "execution_count": 6,
   "id": "8be8c9ac",
   "metadata": {
    "id": "8be8c9ac",
    "outputId": "aabd5a24-2007-4cdb-9b89-f9fd5d761455"
   },
   "outputs": [
    {
     "data": {
      "text/html": [
       "<div>\n",
       "<style scoped>\n",
       "    .dataframe tbody tr th:only-of-type {\n",
       "        vertical-align: middle;\n",
       "    }\n",
       "\n",
       "    .dataframe tbody tr th {\n",
       "        vertical-align: top;\n",
       "    }\n",
       "\n",
       "    .dataframe thead th {\n",
       "        text-align: right;\n",
       "    }\n",
       "</style>\n",
       "<table border=\"1\" class=\"dataframe\">\n",
       "  <thead>\n",
       "    <tr style=\"text-align: right;\">\n",
       "      <th></th>\n",
       "      <th>Id</th>\n",
       "      <th>SepalLengthCm</th>\n",
       "      <th>SepalWidthCm</th>\n",
       "      <th>PetalLengthCm</th>\n",
       "      <th>PetalWidthCm</th>\n",
       "      <th>Species</th>\n",
       "    </tr>\n",
       "  </thead>\n",
       "  <tbody>\n",
       "    <tr>\n",
       "      <th>0</th>\n",
       "      <td>1</td>\n",
       "      <td>5.1</td>\n",
       "      <td>3.5</td>\n",
       "      <td>1.4</td>\n",
       "      <td>0.2</td>\n",
       "      <td>Iris-setosa</td>\n",
       "    </tr>\n",
       "    <tr>\n",
       "      <th>1</th>\n",
       "      <td>2</td>\n",
       "      <td>4.9</td>\n",
       "      <td>3.0</td>\n",
       "      <td>1.4</td>\n",
       "      <td>0.2</td>\n",
       "      <td>Iris-setosa</td>\n",
       "    </tr>\n",
       "    <tr>\n",
       "      <th>2</th>\n",
       "      <td>3</td>\n",
       "      <td>4.7</td>\n",
       "      <td>3.2</td>\n",
       "      <td>1.3</td>\n",
       "      <td>0.2</td>\n",
       "      <td>Iris-setosa</td>\n",
       "    </tr>\n",
       "    <tr>\n",
       "      <th>3</th>\n",
       "      <td>4</td>\n",
       "      <td>4.6</td>\n",
       "      <td>3.1</td>\n",
       "      <td>1.5</td>\n",
       "      <td>0.2</td>\n",
       "      <td>Iris-setosa</td>\n",
       "    </tr>\n",
       "    <tr>\n",
       "      <th>4</th>\n",
       "      <td>5</td>\n",
       "      <td>5.0</td>\n",
       "      <td>3.6</td>\n",
       "      <td>1.4</td>\n",
       "      <td>0.2</td>\n",
       "      <td>Iris-setosa</td>\n",
       "    </tr>\n",
       "  </tbody>\n",
       "</table>\n",
       "</div>"
      ],
      "text/plain": [
       "   Id  SepalLengthCm  SepalWidthCm  PetalLengthCm  PetalWidthCm      Species\n",
       "0   1            5.1           3.5            1.4           0.2  Iris-setosa\n",
       "1   2            4.9           3.0            1.4           0.2  Iris-setosa\n",
       "2   3            4.7           3.2            1.3           0.2  Iris-setosa\n",
       "3   4            4.6           3.1            1.5           0.2  Iris-setosa\n",
       "4   5            5.0           3.6            1.4           0.2  Iris-setosa"
      ]
     },
     "execution_count": 6,
     "metadata": {},
     "output_type": "execute_result"
    }
   ],
   "source": [
    "# Create a copy of the original DataFrame\n",
    "iris2 = iris.copy()\n",
    "iris2.head()"
   ]
  },
  {
   "cell_type": "code",
   "execution_count": 7,
   "id": "e5c23af7",
   "metadata": {
    "id": "e5c23af7"
   },
   "outputs": [],
   "source": [
    "# Assign Iris-setosa to 0 and Not-Iris-setosa to 1.\n",
    "iris2[\"Species\"] = np.where(iris2[\"Species\"] == \"Iris-setosa\", 0, 1)"
   ]
  },
  {
   "cell_type": "code",
   "execution_count": 8,
   "id": "140920bc",
   "metadata": {
    "id": "140920bc",
    "outputId": "2a9ad94e-c1c5-4569-abab-d686d44d5fc8"
   },
   "outputs": [
    {
     "data": {
      "text/html": [
       "<div>\n",
       "<style scoped>\n",
       "    .dataframe tbody tr th:only-of-type {\n",
       "        vertical-align: middle;\n",
       "    }\n",
       "\n",
       "    .dataframe tbody tr th {\n",
       "        vertical-align: top;\n",
       "    }\n",
       "\n",
       "    .dataframe thead th {\n",
       "        text-align: right;\n",
       "    }\n",
       "</style>\n",
       "<table border=\"1\" class=\"dataframe\">\n",
       "  <thead>\n",
       "    <tr style=\"text-align: right;\">\n",
       "      <th></th>\n",
       "      <th>Id</th>\n",
       "      <th>SepalLengthCm</th>\n",
       "      <th>SepalWidthCm</th>\n",
       "      <th>PetalLengthCm</th>\n",
       "      <th>PetalWidthCm</th>\n",
       "      <th>Species</th>\n",
       "    </tr>\n",
       "  </thead>\n",
       "  <tbody>\n",
       "    <tr>\n",
       "      <th>0</th>\n",
       "      <td>1</td>\n",
       "      <td>5.1</td>\n",
       "      <td>3.5</td>\n",
       "      <td>1.4</td>\n",
       "      <td>0.2</td>\n",
       "      <td>0</td>\n",
       "    </tr>\n",
       "    <tr>\n",
       "      <th>1</th>\n",
       "      <td>2</td>\n",
       "      <td>4.9</td>\n",
       "      <td>3.0</td>\n",
       "      <td>1.4</td>\n",
       "      <td>0.2</td>\n",
       "      <td>0</td>\n",
       "    </tr>\n",
       "    <tr>\n",
       "      <th>2</th>\n",
       "      <td>3</td>\n",
       "      <td>4.7</td>\n",
       "      <td>3.2</td>\n",
       "      <td>1.3</td>\n",
       "      <td>0.2</td>\n",
       "      <td>0</td>\n",
       "    </tr>\n",
       "    <tr>\n",
       "      <th>3</th>\n",
       "      <td>4</td>\n",
       "      <td>4.6</td>\n",
       "      <td>3.1</td>\n",
       "      <td>1.5</td>\n",
       "      <td>0.2</td>\n",
       "      <td>0</td>\n",
       "    </tr>\n",
       "    <tr>\n",
       "      <th>4</th>\n",
       "      <td>5</td>\n",
       "      <td>5.0</td>\n",
       "      <td>3.6</td>\n",
       "      <td>1.4</td>\n",
       "      <td>0.2</td>\n",
       "      <td>0</td>\n",
       "    </tr>\n",
       "  </tbody>\n",
       "</table>\n",
       "</div>"
      ],
      "text/plain": [
       "   Id  SepalLengthCm  SepalWidthCm  PetalLengthCm  PetalWidthCm  Species\n",
       "0   1            5.1           3.5            1.4           0.2        0\n",
       "1   2            4.9           3.0            1.4           0.2        0\n",
       "2   3            4.7           3.2            1.3           0.2        0\n",
       "3   4            4.6           3.1            1.5           0.2        0\n",
       "4   5            5.0           3.6            1.4           0.2        0"
      ]
     },
     "execution_count": 8,
     "metadata": {},
     "output_type": "execute_result"
    }
   ],
   "source": [
    "iris2.head()"
   ]
  },
  {
   "cell_type": "code",
   "execution_count": 9,
   "id": "58451428",
   "metadata": {
    "id": "58451428",
    "outputId": "303f4096-64e4-4e83-f3ee-fdf7cb36746c"
   },
   "outputs": [
    {
     "data": {
      "text/plain": [
       "Species\n",
       "1    100\n",
       "0     50\n",
       "Name: count, dtype: int64"
      ]
     },
     "execution_count": 9,
     "metadata": {},
     "output_type": "execute_result"
    }
   ],
   "source": [
    "# Count the occurrences of each unique value in the 'Species' column\n",
    "iris2[\"Species\"].value_counts()"
   ]
  },
  {
   "cell_type": "code",
   "execution_count": 10,
   "id": "7f2bacc9",
   "metadata": {
    "id": "7f2bacc9"
   },
   "outputs": [],
   "source": [
    "# Define X and y\n",
    "X = iris2.drop([\"Id\",\"Species\"], axis=1)\n",
    "y = iris2[\"Species\"]"
   ]
  },
  {
   "cell_type": "code",
   "execution_count": 11,
   "id": "64765a91",
   "metadata": {
    "id": "64765a91"
   },
   "outputs": [],
   "source": [
    "# Scale the data\n",
    "X = preprocessing.scale(X)"
   ]
  },
  {
   "cell_type": "code",
   "execution_count": 12,
   "id": "c22f6c04",
   "metadata": {
    "id": "c22f6c04"
   },
   "outputs": [],
   "source": [
    "# Split the data into train and test sets\n",
    "X_train, X_test, y_train, y_test = train_test_split(X, y, test_size=0.3, stratify=y, random_state=42)"
   ]
  },
  {
   "cell_type": "code",
   "execution_count": 13,
   "id": "b1470534",
   "metadata": {
    "id": "b1470534"
   },
   "outputs": [],
   "source": [
    "# Instantiate the model\n",
    "logreg = LogisticRegression()\n",
    "\n",
    "# Fit the model to the training set\n",
    "logreg.fit(X_train, y_train)\n",
    "\n",
    "# Make predictions on the test set\n",
    "predictions = logreg.predict(X_test)"
   ]
  },
  {
   "cell_type": "code",
   "execution_count": 14,
   "id": "9ea1eb34",
   "metadata": {
    "id": "9ea1eb34",
    "outputId": "4598beae-39d6-4961-dc14-1d8bb59d575d"
   },
   "outputs": [
    {
     "data": {
      "image/png": "[encoded data removed]",
      "text/plain": [
       "<Figure size 640x480 with 2 Axes>"
      ]
     },
     "metadata": {},
     "output_type": "display_data"
    }
   ],
   "source": [
    "# Evaluate the model using the confusion matrix\n",
    "conf_matrix = confusion_matrix(y_test, predictions)\n",
    "\n",
    "# Plot the confusion matrix using a heatmap\n",
    "sns.heatmap(conf_matrix, annot=True, fmt='d', cmap='Greens')\n",
    "plt.xlabel(\"Predicted Labels\")\n",
    "plt.ylabel(\"True Labels\")\n",
    "plt.title(\"Confusion Matrix\")\n",
    "plt.show()"
   ]
  },
  {
   "cell_type": "markdown",
   "id": "3946ddc4",
   "metadata": {
    "id": "3946ddc4"
   },
   "source": [
    "**Note:** The model seems to predict perfectly whether an instance is Iris-setosa or Not-Iris-setosa. It correctly predicted 15 Iris-setosa cases and 30 Not-setosa cases, with no false positives or false negatives presented."
   ]
  },
  {
   "cell_type": "markdown",
   "id": "b21cfe32",
   "metadata": {
    "id": "b21cfe32"
   },
   "source": [
    "### Code to calculate the accuracy, precision, and recall."
   ]
  },
  {
   "cell_type": "markdown",
   "id": "7fd5bfeb",
   "metadata": {
    "id": "7fd5bfeb"
   },
   "source": [
    "**Note:** The following functions require classes to be encoded from 0 to the total number of classes minus one (e.g., for 3 classes: class 1 = 0, class 2 = 1, and class 3 = 2).  "
   ]
  },
  {
   "cell_type": "code",
   "execution_count": 15,
   "id": "19b43317",
   "metadata": {
    "id": "19b43317"
   },
   "outputs": [],
   "source": [
    "def get_accuracy(true_labels, predicted_labels, number_of_classes):\n",
    "    \"\"\"\n",
    "    Calculate the accuracy of predictions for a classification problem.\n",
    "\n",
    "    Parameters:\n",
    "    true_labels (array-like): Actual labels for the data points.\n",
    "    predicted_labels (array-like): Predicted labels from the model.\n",
    "    number_of_classes (int): Total number of unique classes in the classification task.\n",
    "\n",
    "    Returns:\n",
    "    float: The average accuracy score across all classes.\n",
    "    \"\"\"\n",
    "    accuracy_per_class = []\n",
    "    for n in range(number_of_classes):\n",
    "        accuracy = sum(true_labels == predicted_labels) / len(predicted_labels)\n",
    "        accuracy_per_class.append(accuracy)\n",
    "    final_accuracy_score = sum(accuracy_per_class) / len(accuracy_per_class)\n",
    "    return final_accuracy_score"
   ]
  },
  {
   "cell_type": "code",
   "execution_count": 16,
   "id": "b42bfd00",
   "metadata": {
    "id": "b42bfd00"
   },
   "outputs": [],
   "source": [
    "def get_precision(true_labels, predicted_labels, number_of_classes):\n",
    "    \"\"\"\n",
    "    Calculate the precision of predictions for a classification problem.\n",
    "\n",
    "    Parameters:\n",
    "    true_labels (array-like): Actual labels for the data points.\n",
    "    predicted_labels (array-like): Predicted labels from the model.\n",
    "    number_of_classes (int): Total number of unique classes in the classification task.\n",
    "\n",
    "    Returns:\n",
    "    float: The average precision score across all classes.\n",
    "    \"\"\"\n",
    "    precision_per_class = []\n",
    "    for n in range(number_of_classes):\n",
    "        TP = sum((true_labels == n) & (true_labels == predicted_labels))\n",
    "        FP = sum((predicted_labels == n) & (true_labels != predicted_labels))\n",
    "        precision = TP / (TP + FP)\n",
    "        precision_per_class.append(precision)\n",
    "    final_precision_score = sum(precision_per_class) / len(precision_per_class)\n",
    "    return final_precision_score"
   ]
  },
  {
   "cell_type": "code",
   "execution_count": 17,
   "id": "6d998f86",
   "metadata": {
    "id": "6d998f86"
   },
   "outputs": [],
   "source": [
    "def get_recall(true_labels, predicted_labels, number_of_classes):\n",
    "    \"\"\"\n",
    "    Calculate the recall of predictions for a classification problem.\n",
    "\n",
    "    Parameters:\n",
    "    true_labels (array-like): Actual labels for the data points.\n",
    "    predicted_labels (array-like): Predicted labels from the model.\n",
    "    number_of_classes (int): Total number of unique classes in the classification task.\n",
    "\n",
    "    Returns:\n",
    "    float: The average recall score across all classes.\n",
    "    \"\"\"\n",
    "    recall_per_class = []\n",
    "    for n in range(number_of_classes):\n",
    "        TP = sum((true_labels == n) & (true_labels == predicted_labels))\n",
    "        FN = sum((predicted_labels != n) & (true_labels == n))\n",
    "        recall = TP / (TP + FN)\n",
    "        recall_per_class.append(recall)\n",
    "    final_recall_score = sum(recall_per_class) / len(recall_per_class)\n",
    "    return final_recall_score"
   ]
  },
  {
   "cell_type": "code",
   "execution_count": 18,
   "id": "d77fd29f",
   "metadata": {
    "id": "d77fd29f",
    "outputId": "c42734f5-3a75-4caa-db24-266ed3ff70d3"
   },
   "outputs": [
    {
     "name": "stdout",
     "output_type": "stream",
     "text": [
      "Accuracy: 1.0\n",
      "Precision: 1.0\n",
      "Recall: 1.0\n"
     ]
    }
   ],
   "source": [
    "print(\"Accuracy:\", get_accuracy(y_test, predictions, 2))\n",
    "print(\"Precision:\", get_precision(y_test, predictions, 2))\n",
    "print(\"Recall:\", get_recall(y_test, predictions, 2))"
   ]
  },
  {
   "cell_type": "code",
   "execution_count": 19,
   "id": "79a4b971",
   "metadata": {
    "id": "79a4b971",
    "outputId": "8156a7a9-5b2a-4f35-f461-c28a15dad7ed"
   },
   "outputs": [
    {
     "name": "stdout",
     "output_type": "stream",
     "text": [
      "Checking Accuracy Score: 1.0\n",
      "Checking Precision Score: 1.0\n",
      "Checking Recall Score: 1.0\n"
     ]
    }
   ],
   "source": [
    "# Double-check scores using scikit-learn\n",
    "accuracy_check = accuracy_score(y_test, predictions)\n",
    "precision_check = precision_score(y_test, predictions)\n",
    "recall_check = recall_score(y_test, predictions)\n",
    "\n",
    "print(\"Checking Accuracy Score:\", accuracy_check)\n",
    "print(\"Checking Precision Score:\", precision_check)\n",
    "print(\"Checking Recall Score:\", recall_check)"
   ]
  },
  {
   "cell_type": "markdown",
   "id": "1402e913",
   "metadata": {
    "id": "1402e913"
   },
   "source": [
    "## Optional Task: Iris-setosa, Iris-versicolour, and Iris-virginica Classification"
   ]
  },
  {
   "cell_type": "code",
   "execution_count": 20,
   "id": "8b20f857",
   "metadata": {
    "id": "8b20f857",
    "outputId": "b307b8dd-abe9-47bf-b9a7-709046dd4218"
   },
   "outputs": [
    {
     "data": {
      "text/html": [
       "<div>\n",
       "<style scoped>\n",
       "    .dataframe tbody tr th:only-of-type {\n",
       "        vertical-align: middle;\n",
       "    }\n",
       "\n",
       "    .dataframe tbody tr th {\n",
       "        vertical-align: top;\n",
       "    }\n",
       "\n",
       "    .dataframe thead th {\n",
       "        text-align: right;\n",
       "    }\n",
       "</style>\n",
       "<table border=\"1\" class=\"dataframe\">\n",
       "  <thead>\n",
       "    <tr style=\"text-align: right;\">\n",
       "      <th></th>\n",
       "      <th>Id</th>\n",
       "      <th>SepalLengthCm</th>\n",
       "      <th>SepalWidthCm</th>\n",
       "      <th>PetalLengthCm</th>\n",
       "      <th>PetalWidthCm</th>\n",
       "      <th>Species</th>\n",
       "    </tr>\n",
       "  </thead>\n",
       "  <tbody>\n",
       "    <tr>\n",
       "      <th>0</th>\n",
       "      <td>1</td>\n",
       "      <td>5.1</td>\n",
       "      <td>3.5</td>\n",
       "      <td>1.4</td>\n",
       "      <td>0.2</td>\n",
       "      <td>Iris-setosa</td>\n",
       "    </tr>\n",
       "    <tr>\n",
       "      <th>1</th>\n",
       "      <td>2</td>\n",
       "      <td>4.9</td>\n",
       "      <td>3.0</td>\n",
       "      <td>1.4</td>\n",
       "      <td>0.2</td>\n",
       "      <td>Iris-setosa</td>\n",
       "    </tr>\n",
       "    <tr>\n",
       "      <th>2</th>\n",
       "      <td>3</td>\n",
       "      <td>4.7</td>\n",
       "      <td>3.2</td>\n",
       "      <td>1.3</td>\n",
       "      <td>0.2</td>\n",
       "      <td>Iris-setosa</td>\n",
       "    </tr>\n",
       "    <tr>\n",
       "      <th>3</th>\n",
       "      <td>4</td>\n",
       "      <td>4.6</td>\n",
       "      <td>3.1</td>\n",
       "      <td>1.5</td>\n",
       "      <td>0.2</td>\n",
       "      <td>Iris-setosa</td>\n",
       "    </tr>\n",
       "    <tr>\n",
       "      <th>4</th>\n",
       "      <td>5</td>\n",
       "      <td>5.0</td>\n",
       "      <td>3.6</td>\n",
       "      <td>1.4</td>\n",
       "      <td>0.2</td>\n",
       "      <td>Iris-setosa</td>\n",
       "    </tr>\n",
       "  </tbody>\n",
       "</table>\n",
       "</div>"
      ],
      "text/plain": [
       "   Id  SepalLengthCm  SepalWidthCm  PetalLengthCm  PetalWidthCm      Species\n",
       "0   1            5.1           3.5            1.4           0.2  Iris-setosa\n",
       "1   2            4.9           3.0            1.4           0.2  Iris-setosa\n",
       "2   3            4.7           3.2            1.3           0.2  Iris-setosa\n",
       "3   4            4.6           3.1            1.5           0.2  Iris-setosa\n",
       "4   5            5.0           3.6            1.4           0.2  Iris-setosa"
      ]
     },
     "execution_count": 20,
     "metadata": {},
     "output_type": "execute_result"
    }
   ],
   "source": [
    "# Return the first five observations\n",
    "iris.head()"
   ]
  },
  {
   "cell_type": "code",
   "execution_count": 21,
   "id": "931d55aa",
   "metadata": {
    "id": "931d55aa",
    "outputId": "593bf14f-e29b-4e19-d8a1-77e1e74861c6"
   },
   "outputs": [
    {
     "data": {
      "text/plain": [
       "Species\n",
       "Iris-setosa        50\n",
       "Iris-versicolor    50\n",
       "Iris-virginica     50\n",
       "Name: count, dtype: int64"
      ]
     },
     "execution_count": 21,
     "metadata": {},
     "output_type": "execute_result"
    }
   ],
   "source": [
    "# Count the occurrences of each unique value in the \"Species\" column\n",
    "iris[\"Species\"].value_counts()"
   ]
  },
  {
   "cell_type": "code",
   "execution_count": 22,
   "id": "5f01a3c0",
   "metadata": {
    "id": "5f01a3c0"
   },
   "outputs": [],
   "source": [
    "# Make a copy of the orginal data\n",
    "iris3 = iris.copy()"
   ]
  },
  {
   "cell_type": "code",
   "execution_count": 23,
   "id": "6d25210e",
   "metadata": {
    "id": "6d25210e"
   },
   "outputs": [
    {
     "name": "stderr",
     "output_type": "stream",
     "text": [
      "C:\\Users\\27748\\AppData\\Local\\Temp\\ipykernel_4680\\1018317634.py:2: FutureWarning: Downcasting behavior in `replace` is deprecated and will be removed in a future version. To retain the old behavior, explicitly call `result.infer_objects(copy=False)`. To opt-in to the future behavior, set `pd.set_option('future.no_silent_downcasting', True)`\n",
      "  iris3[\"Species\"] = iris3[\"Species\"].replace({\"Iris-setosa\": 0, \"Iris-versicolor\": 1, \"Iris-virginica\": 2})\n"
     ]
    }
   ],
   "source": [
    "# Encode Species: Iris-setosa (0), Iris-versicolor (1), and Iris-virginica (2).\n",
    "iris3[\"Species\"] = iris3[\"Species\"].replace({\"Iris-setosa\": 0, \"Iris-versicolor\": 1, \"Iris-virginica\": 2})"
   ]
  },
  {
   "cell_type": "code",
   "execution_count": 24,
   "id": "bbabf1dd",
   "metadata": {
    "id": "bbabf1dd",
    "outputId": "c0aeb849-1f89-4c8c-c83f-fbad7204fe7b"
   },
   "outputs": [
    {
     "data": {
      "text/html": [
       "<div>\n",
       "<style scoped>\n",
       "    .dataframe tbody tr th:only-of-type {\n",
       "        vertical-align: middle;\n",
       "    }\n",
       "\n",
       "    .dataframe tbody tr th {\n",
       "        vertical-align: top;\n",
       "    }\n",
       "\n",
       "    .dataframe thead th {\n",
       "        text-align: right;\n",
       "    }\n",
       "</style>\n",
       "<table border=\"1\" class=\"dataframe\">\n",
       "  <thead>\n",
       "    <tr style=\"text-align: right;\">\n",
       "      <th></th>\n",
       "      <th>Id</th>\n",
       "      <th>SepalLengthCm</th>\n",
       "      <th>SepalWidthCm</th>\n",
       "      <th>PetalLengthCm</th>\n",
       "      <th>PetalWidthCm</th>\n",
       "      <th>Species</th>\n",
       "    </tr>\n",
       "  </thead>\n",
       "  <tbody>\n",
       "    <tr>\n",
       "      <th>0</th>\n",
       "      <td>1</td>\n",
       "      <td>5.1</td>\n",
       "      <td>3.5</td>\n",
       "      <td>1.4</td>\n",
       "      <td>0.2</td>\n",
       "      <td>0</td>\n",
       "    </tr>\n",
       "    <tr>\n",
       "      <th>1</th>\n",
       "      <td>2</td>\n",
       "      <td>4.9</td>\n",
       "      <td>3.0</td>\n",
       "      <td>1.4</td>\n",
       "      <td>0.2</td>\n",
       "      <td>0</td>\n",
       "    </tr>\n",
       "    <tr>\n",
       "      <th>2</th>\n",
       "      <td>3</td>\n",
       "      <td>4.7</td>\n",
       "      <td>3.2</td>\n",
       "      <td>1.3</td>\n",
       "      <td>0.2</td>\n",
       "      <td>0</td>\n",
       "    </tr>\n",
       "    <tr>\n",
       "      <th>3</th>\n",
       "      <td>4</td>\n",
       "      <td>4.6</td>\n",
       "      <td>3.1</td>\n",
       "      <td>1.5</td>\n",
       "      <td>0.2</td>\n",
       "      <td>0</td>\n",
       "    </tr>\n",
       "    <tr>\n",
       "      <th>4</th>\n",
       "      <td>5</td>\n",
       "      <td>5.0</td>\n",
       "      <td>3.6</td>\n",
       "      <td>1.4</td>\n",
       "      <td>0.2</td>\n",
       "      <td>0</td>\n",
       "    </tr>\n",
       "  </tbody>\n",
       "</table>\n",
       "</div>"
      ],
      "text/plain": [
       "   Id  SepalLengthCm  SepalWidthCm  PetalLengthCm  PetalWidthCm  Species\n",
       "0   1            5.1           3.5            1.4           0.2        0\n",
       "1   2            4.9           3.0            1.4           0.2        0\n",
       "2   3            4.7           3.2            1.3           0.2        0\n",
       "3   4            4.6           3.1            1.5           0.2        0\n",
       "4   5            5.0           3.6            1.4           0.2        0"
      ]
     },
     "execution_count": 24,
     "metadata": {},
     "output_type": "execute_result"
    }
   ],
   "source": [
    "# Check new DataFrame\n",
    "iris3.head()"
   ]
  },
  {
   "cell_type": "code",
   "execution_count": 25,
   "id": "5c3b3dff",
   "metadata": {
    "id": "5c3b3dff",
    "outputId": "743ad959-a267-472d-b2d8-106ccc418f59"
   },
   "outputs": [
    {
     "data": {
      "text/plain": [
       "Species\n",
       "0    50\n",
       "1    50\n",
       "2    50\n",
       "Name: count, dtype: int64"
      ]
     },
     "execution_count": 25,
     "metadata": {},
     "output_type": "execute_result"
    }
   ],
   "source": [
    "# Count the occurrences of each unique value in the \"Species\" column\n",
    "iris3[\"Species\"].value_counts()"
   ]
  },
  {
   "cell_type": "code",
   "execution_count": 26,
   "id": "e358aed6",
   "metadata": {
    "id": "e358aed6"
   },
   "outputs": [],
   "source": [
    "# Define X and y\n",
    "X = iris3.drop([\"Id\",\"Species\"], axis=1)\n",
    "y = iris3[\"Species\"]"
   ]
  },
  {
   "cell_type": "code",
   "execution_count": 27,
   "id": "3e46895c",
   "metadata": {
    "id": "3e46895c"
   },
   "outputs": [],
   "source": [
    "# Scale the data\n",
    "X = preprocessing.scale(X)"
   ]
  },
  {
   "cell_type": "code",
   "execution_count": 28,
   "id": "673723a5",
   "metadata": {
    "id": "673723a5"
   },
   "outputs": [],
   "source": [
    "# Split the data into train and test sets\n",
    "X_train, X_test, y_train, y_test = train_test_split(X, y, test_size=0.3, stratify=y, random_state=42)"
   ]
  },
  {
   "cell_type": "code",
   "execution_count": 29,
   "id": "4cf76b6f",
   "metadata": {
    "id": "4cf76b6f"
   },
   "outputs": [],
   "source": [
    "# Instantiate the model\n",
    "logreg2 = LogisticRegression()\n",
    "\n",
    "# Fit the model to the training set\n",
    "logreg2.fit(X_train, y_train)\n",
    "\n",
    "# Make predictions on the test set\n",
    "y_pred = logreg2.predict(X_test)"
   ]
  },
  {
   "cell_type": "code",
   "execution_count": 30,
   "id": "68229973",
   "metadata": {
    "id": "68229973",
    "outputId": "95fbad62-573d-4f7f-f38b-cd0ec8d77d4f"
   },
   "outputs": [
    {
     "data": {
      "image/png": "[encoded data removed]",
      "text/plain": [
       "<Figure size 640x480 with 2 Axes>"
      ]
     },
     "metadata": {},
     "output_type": "display_data"
    }
   ],
   "source": [
    "# Evaluate the model using the confusion matrix\n",
    "conf_matrix = confusion_matrix(y_test, y_pred)\n",
    "\n",
    "# Plot the confusion matrix using a heatmap\n",
    "sns.heatmap(conf_matrix, annot=True, fmt='d', cmap='Purples')\n",
    "plt.xlabel(\"Predicted Labels\")\n",
    "plt.ylabel(\"True Labels\")\n",
    "plt.title(\"Confusion Matrix\")\n",
    "plt.show()"
   ]
  },
  {
   "cell_type": "markdown",
   "id": "dc98fd3f",
   "metadata": {
    "id": "dc98fd3f"
   },
   "source": [
    "**Note:** The model seems to classify all Iris-setosas (0) correctly but makes some misclassifications between Iris-versicolor (1) and Iris-virginica (2). Iris-virginica appears to be the most challenging for the model to predict, as it makes more mistakes in identifying it."
   ]
  },
  {
   "cell_type": "code",
   "execution_count": 31,
   "id": "fba43da7",
   "metadata": {
    "id": "fba43da7"
   },
   "outputs": [],
   "source": [
    "# Function to calculate the accuracy of predictions for a classification problem.\n",
    "# Accuracy is defined as the ratio of correctly predicted instances (TP + TN) to the total instances (TP + TN + FP + FN).\n",
    "\n",
    "def get_accuracy(true_labels, predicted_labels, number_of_classes):\n",
    "    accuracy_per_class = []\n",
    "    for n in range(number_of_classes):\n",
    "        accuracy = sum(true_labels == predicted_labels) / len(predicted_labels)\n",
    "        accuracy_per_class.append(accuracy)\n",
    "    final_accuracy_score = sum(accuracy_per_class) / len(accuracy_per_class)\n",
    "    return final_accuracy_score"
   ]
  },
  {
   "cell_type": "code",
   "execution_count": 32,
   "id": "f183017a",
   "metadata": {
    "id": "f183017a"
   },
   "outputs": [],
   "source": [
    "# Function to calculate the precision of predictions for a classification problem.\n",
    "# Precision is defined as the ratio of true positives (TP) to the total predicted positives (TP + FP).\n",
    "\n",
    "def get_precision(true_labels, predicted_labels, number_of_classes):\n",
    "    precision_per_class = []\n",
    "    for n in range(number_of_classes):\n",
    "        TP = sum((true_labels == n) & (true_labels == predicted_labels))\n",
    "        FP = sum((predicted_labels == n) & (true_labels != predicted_labels))\n",
    "        precision = TP / (TP + FP)\n",
    "        precision_per_class.append(precision)\n",
    "    final_precision_score = sum(precision_per_class) / len(precision_per_class)\n",
    "    return final_precision_score"
   ]
  },
  {
   "cell_type": "code",
   "execution_count": 33,
   "id": "ebb41659",
   "metadata": {
    "id": "ebb41659"
   },
   "outputs": [],
   "source": [
    "# Function to calculate the recall of predictions for a classification problem.\n",
    "# Recall is defined as the ratio of true positives (TP) to the total actual positives (TP + FN).\n",
    "\n",
    "def get_recall(true_labels, predicted_labels, number_of_classes):\n",
    "    recall_per_class = []\n",
    "    for n in range(number_of_classes):\n",
    "        TP = sum((true_labels == n) & (true_labels == predicted_labels))\n",
    "        FN = sum((predicted_labels != n) & (true_labels == n))\n",
    "        recall = TP / (TP + FN)\n",
    "        recall_per_class.append(recall)\n",
    "    final_recall_score = sum(recall_per_class) / len(recall_per_class)\n",
    "    return final_recall_score"
   ]
  },
  {
   "cell_type": "code",
   "execution_count": 34,
   "id": "6f2e3e31",
   "metadata": {
    "id": "6f2e3e31",
    "outputId": "2b706d3e-4f02-4b6f-ba59-cb57b23512eb"
   },
   "outputs": [
    {
     "name": "stdout",
     "output_type": "stream",
     "text": [
      "Accuracy: 0.9111111111111111\n",
      "Precision: 0.9155354449472096\n",
      "Recall: 0.9111111111111111\n"
     ]
    }
   ],
   "source": [
    "print(\"Accuracy:\", get_accuracy(y_test,y_pred, 3))\n",
    "print(\"Precision:\", get_precision(y_test,y_pred, 3))\n",
    "print(\"Recall:\", get_recall(y_test,y_pred, 3))"
   ]
  },
  {
   "cell_type": "code",
   "execution_count": 35,
   "id": "fbcc6eff",
   "metadata": {
    "id": "fbcc6eff",
    "outputId": "c302bf1f-bd9f-4761-fb4c-54ceefe36efe"
   },
   "outputs": [
    {
     "name": "stdout",
     "output_type": "stream",
     "text": [
      "Checking Accuracy Score: 0.9111111111111111\n",
      "Checking Precision Score: 0.9155354449472096\n",
      "Checking Recall Score: 0.9111111111111111\n"
     ]
    }
   ],
   "source": [
    "# Double-check scores using scikit-learn methods:\n",
    "accuracy_check2 = accuracy_score(y_test, y_pred)\n",
    "precision_check2 = precision_score(y_test, y_pred, average=\"weighted\")\n",
    "recall_check2 = recall_score(y_test, y_pred, average=\"weighted\")\n",
    "\n",
    "print(\"Checking Accuracy Score:\", accuracy_check2)\n",
    "print(\"Checking Precision Score:\", precision_check2)\n",
    "print(\"Checking Recall Score:\", recall_check2)"
   ]
  },
  {
   "cell_type": "code",
   "execution_count": 36,
   "id": "c2f2844e",
   "metadata": {
    "id": "c2f2844e",
    "outputId": "122aebc8-8da9-4dff-82e9-123e2176eb46"
   },
   "outputs": [
    {
     "name": "stdout",
     "output_type": "stream",
     "text": [
      "              precision    recall  f1-score   support\n",
      "\n",
      "           0       1.00      1.00      1.00        15\n",
      "           1       0.82      0.93      0.88        15\n",
      "           2       0.92      0.80      0.86        15\n",
      "\n",
      "    accuracy                           0.91        45\n",
      "   macro avg       0.92      0.91      0.91        45\n",
      "weighted avg       0.92      0.91      0.91        45\n",
      "\n"
     ]
    }
   ],
   "source": [
    "# Extra: Check scores per class using classification_report\n",
    "print(classification_report(y_test, y_pred))"
   ]
  }
 ],
 "metadata": {
  "colab": {
   "provenance": []
  },
  "kernelspec": {
   "display_name": "Python 3",
   "language": "python",
   "name": "python3"
  },
  "language_info": {
   "codemirror_mode": {
    "name": "ipython",
    "version": 3
   },
   "file_extension": ".py",
   "mimetype": "text/x-python",
   "name": "python",
   "nbconvert_exporter": "python",
   "pygments_lexer": "ipython3",
   "version": "3.12.4"
  }
 },
 "nbformat": 4,
 "nbformat_minor": 5
}
