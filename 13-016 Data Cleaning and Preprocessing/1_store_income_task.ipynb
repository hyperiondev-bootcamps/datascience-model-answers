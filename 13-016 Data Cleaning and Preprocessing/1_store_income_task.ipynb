{
 "cells": [
  {
   "cell_type": "markdown",
   "metadata": {
    "id": "lqt_yzRy16Wj"
   },
   "source": [
    "## Model Answer"
   ]
  },
  {
   "cell_type": "code",
   "execution_count": null,
   "metadata": {
    "id": "ETSkxfErfsq6"
   },
   "outputs": [],
   "source": [
    "# Library imports\n",
    "import pandas as pd\n",
    "import fuzzywuzzy\n",
    "from fuzzywuzzy import process\n",
    "import datetime\n",
    "\n",
    "# Load up CSV file\n",
    "income_df = pd.read_csv(\"store_income_data_task.csv\")"
   ]
  },
  {
   "cell_type": "code",
   "execution_count": null,
   "metadata": {
    "colab": {
     "base_uri": "https://localhost:8080/",
     "height": 206
    },
    "executionInfo": {
     "elapsed": 733,
     "status": "ok",
     "timestamp": 1709724867227,
     "user": {
      "displayName": "Alfred Ndlovu",
      "userId": "18188314822513300687"
     },
     "user_tz": -120
    },
    "id": "5q-8ylpAcOWr",
    "outputId": "4b8bdf3d-4c92-4bdd-e9c5-2188fe79996e"
   },
   "outputs": [],
   "source": [
    "# View the first 5 rows of the dataframe.\n",
    "income_df.head()"
   ]
  },
  {
   "cell_type": "markdown",
   "metadata": {
    "id": "ItqLwumA16Wr"
   },
   "source": [
    "1. Take a look at all the unique values in the \"country\" column. Then, convert the column to lowercase and remove any trailing white spaces."
   ]
  },
  {
   "cell_type": "code",
   "execution_count": null,
   "metadata": {
    "colab": {
     "base_uri": "https://localhost:8080/"
    },
    "executionInfo": {
     "elapsed": 637,
     "status": "ok",
     "timestamp": 1709724871947,
     "user": {
      "displayName": "Alfred Ndlovu",
      "userId": "18188314822513300687"
     },
     "user_tz": -120
    },
    "id": "sLkzt4Hr16Wr",
    "outputId": "7dd71eb9-cf49-4986-a248-464418982bdb"
   },
   "outputs": [],
   "source": [
    "# Display unique country names before cleaning\n",
    "countries = income_df['country'].unique()\n",
    "print(f\"Number of unique countries before cleaning: {len(countries)}\")\n",
    "countries\n",
    "\n",
    "# Convert country names to lowercase and remove leading/trailing whitespaces\n",
    "income_df['country'] = income_df['country'].str.lower().str.strip()\n",
    "\n",
    "# Replace all null/NaN value country names with 'unknown'\n",
    "income_df.country.fillna('unknown', inplace=True)\n",
    "\n",
    "# Display unique country names after cleaning\n",
    "countries = income_df['country'].unique()\n",
    "print(f\"Number of unique countries after cleaning: {len(countries)}\")\n",
    "countries"
   ]
  },
  {
   "cell_type": "markdown",
   "metadata": {
    "id": "P6dcDc4P16Ws"
   },
   "source": [
    "2.  Clean up the 'country' column so that there are three distinct countries.\n",
    "\n",
    "     Note that there should only be three separate countries. Eliminate all variations, so that 'South Africa', 'United Kingdom' and 'United States' are the only three countries."
   ]
  },
  {
   "cell_type": "code",
   "execution_count": null,
   "metadata": {
    "colab": {
     "base_uri": "https://localhost:8080/"
    },
    "executionInfo": {
     "elapsed": 428,
     "status": "ok",
     "timestamp": 1709724876841,
     "user": {
      "displayName": "Alfred Ndlovu",
      "userId": "18188314822513300687"
     },
     "user_tz": -120
    },
    "id": "5xZhtONXJBk4",
    "outputId": "056b43af-c930-4c70-8c2d-e1b98cff4d73"
   },
   "outputs": [],
   "source": [
    "# This code cell is used to determine the min_ratio when calling the replace_country_names function\n",
    "matches = fuzzywuzzy.process.extract(\"s.a\", countries, limit=10, scorer=fuzzywuzzy.fuzz.token_sort_ratio)\n",
    "matches"
   ]
  },
  {
   "cell_type": "code",
   "execution_count": null,
   "metadata": {
    "colab": {
     "base_uri": "https://localhost:8080/"
    },
    "executionInfo": {
     "elapsed": 660,
     "status": "ok",
     "timestamp": 1709724880737,
     "user": {
      "displayName": "Alfred Ndlovu",
      "userId": "18188314822513300687"
     },
     "user_tz": -120
    },
    "id": "qeV3CxMR16Ws",
    "outputId": "e0e40503-4d64-4f81-ddb3-c61ec33d3c46"
   },
   "outputs": [],
   "source": [
    "\n",
    "def replace_country_names(df, column, string_to_match, min_ratio):\n",
    "    \"\"\"\n",
    "    Replaces country names that are a close match using fuzzy logic and a custom ratio\n",
    "\n",
    "    Arguments:  df - the dataframe to search\n",
    "                column - the column to search\n",
    "                string_to_match - the string to search for\n",
    "                ratio - the minimum ratio to consider a match\n",
    "    \"\"\"\n",
    "\n",
    "    # Get a list of unique names for the specified column\n",
    "    unique_strings = df[column].unique()\n",
    "\n",
    "    # Get the top 10 closest matches for the string_to_match value\n",
    "    matches = fuzzywuzzy.process.extract(string_to_match, unique_strings,\n",
    "                                         limit=10, scorer=fuzzywuzzy.fuzz.token_sort_ratio)\n",
    "\n",
    "    # Only get matches with a ratio greater than or equal to min_ratio value\n",
    "    close_matches = [matches[0] for matches in matches if matches[1] >= min_ratio]\n",
    "\n",
    "    # Get the rows of all the close matches in our dataframe\n",
    "    rows_with_matches = df[column].isin(close_matches)\n",
    "\n",
    "    # Replace all rows with close matches with the input matches\n",
    "    df.loc[rows_with_matches, column] = string_to_match\n",
    "\n",
    "    # Let us know when the function is done\n",
    "    print(\"Replacement completed\")\n",
    "\n",
    "\n",
    "# The min ratios were determined in the previous code cell by analyzing the relevant\n",
    "# top 10 closest matches for each string_to_match value\n",
    "replace_country_names(df=income_df, column='country', string_to_match=\"uk\", min_ratio=40)\n",
    "replace_country_names(df=income_df, column='country', string_to_match=\"united kingdom\", min_ratio=90)\n",
    "replace_country_names(df=income_df, column='country', string_to_match=\"britain\", min_ratio=90)\n",
    "replace_country_names(df=income_df, column='country', string_to_match=\"england\", min_ratio=90)\n",
    "replace_country_names(df=income_df, column='country', string_to_match=\"united states\", min_ratio=70)\n",
    "replace_country_names(df=income_df, column='country', string_to_match=\"america\", min_ratio=90)\n",
    "replace_country_names(df=income_df, column='country', string_to_match=\"south africa\", min_ratio=75)\n",
    "replace_country_names(df=income_df, column='country', string_to_match=\"s.a.\", min_ratio=40)\n"
   ]
  },
  {
   "cell_type": "code",
   "execution_count": null,
   "metadata": {
    "id": "KxcrqyNmgwaA"
   },
   "outputs": [],
   "source": [
    "def replace_name(string_to_find, new_name):\n",
    "    \"\"\"\n",
    "    Replaces the specified country name with a specified new name\n",
    "\n",
    "    Arguments:  string_to_find - country name to be replaced\n",
    "                new_name - name to replace the old name with\n",
    "    \"\"\"\n",
    "    income_df.replace(string_to_find, new_name, inplace=True)\n",
    "\n",
    "    # Let us know when the function is done\n",
    "    print(\"Name replaced\")\n",
    "\n",
    "\n",
    "replace_name(string_to_find='united states', new_name=\"United States\")\n",
    "replace_name(string_to_find='america', new_name=\"United States\")\n",
    "replace_name(string_to_find='s.a.', new_name=\"South Africa\")\n",
    "replace_name(string_to_find='britain', new_name=\"United Kingdom\")\n",
    "replace_name(string_to_find='united kingdom', new_name=\"United Kingdom\")\n",
    "replace_name(string_to_find='uk', new_name=\"United Kingdom\")\n",
    "replace_name(string_to_find='england', new_name=\"United Kingdom\")\n",
    "replace_name(string_to_find='/', new_name=\"unknown\")\n",
    "replace_name(string_to_find='.', new_name=\"unknown\")\n",
    "replace_name(string_to_find='', new_name=\"unknown\")\n",
    "\n",
    "# Display unique country names after all cleaning\n",
    "countries = income_df['country'].unique()\n",
    "print(f\"\\nNumber of unique countries: {len(countries)}\")\n",
    "countries"
   ]
  },
  {
   "cell_type": "code",
   "execution_count": null,
   "metadata": {
    "colab": {
     "base_uri": "https://localhost:8080/"
    },
    "executionInfo": {
     "elapsed": 452,
     "status": "ok",
     "timestamp": 1709724887286,
     "user": {
      "displayName": "Alfred Ndlovu",
      "userId": "18188314822513300687"
     },
     "user_tz": -120
    },
    "id": "0c2fWwxkaklX",
    "outputId": "533fad29-66f4-47de-b365-4b8fde86e6ad"
   },
   "outputs": [],
   "source": [
    "# Remove the 'unknown' values in  countries to remain with  unique countries\n",
    "filtered_df = income_df[income_df['country'] != 'unknown']\n",
    "\n",
    "# Print out the three distinct countries\n",
    "filtered_df.country.unique()"
   ]
  },
  {
   "cell_type": "markdown",
   "metadata": {
    "id": "UJZDMTwP16Ws"
   },
   "source": [
    "3. Create a new column called `days_ago` in the DataFrame that is a copy of the 'date_measured' column but instead it is a number that shows how many days ago it was measured from the current date. Note that the current date can be obtained using `datetime.date.today()`."
   ]
  },
  {
   "cell_type": "code",
   "execution_count": null,
   "metadata": {
    "id": "haC5VHgjJBk5"
   },
   "outputs": [],
   "source": [
    "# Convert 'date_measured' to datetime\n",
    "income_df['date_measured'] = pd.to_datetime(income_df['date_measured'], format='%d-%m-%Y')\n",
    "\n",
    "# Calculate days ago from today\n",
    "today = pd.to_datetime(datetime.date.today())\n",
    "income_df['days_ago'] = (today - income_df['date_measured']).dt.days\n",
    "\n",
    "# Show result\n",
    "income_df.head()"
   ]
  },
  {
   "cell_type": "code",
   "execution_count": null,
   "metadata": {
    "id": "WHUWwdTVJJwp"
   },
   "outputs": [],
   "source": [
    "# Display the first five observation of the days ago column.\n",
    "income_df['days_ago'].head()"
   ]
  }
 ],
 "metadata": {
  "colab": {
   "provenance": []
  },
  "kernelspec": {
   "display_name": "Python 3",
   "language": "python",
   "name": "python3"
  },
  "language_info": {
   "codemirror_mode": {
    "name": "ipython",
    "version": 3
   },
   "file_extension": ".py",
   "mimetype": "text/x-python",
   "name": "python",
   "nbconvert_exporter": "python",
   "pygments_lexer": "ipython3",
   "version": "3.12.4"
  }
 },
 "nbformat": 4,
 "nbformat_minor": 0
}
