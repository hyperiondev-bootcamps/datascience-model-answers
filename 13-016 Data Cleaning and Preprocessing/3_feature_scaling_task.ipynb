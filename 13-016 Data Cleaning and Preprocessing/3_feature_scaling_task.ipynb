{
 "cells": [
  {
   "cell_type": "code",
   "execution_count": null,
   "metadata": {
    "id": "LaXg3OfaxtaS"
   },
   "outputs": [],
   "source": [
    "import pandas as pd\n",
    "import numpy as np\n",
    "\n",
    "# Scaling modules\n",
    "from sklearn.preprocessing import MinMaxScaler\n",
    "\n",
    "# Plotting modules\n",
    "import seaborn as sns\n",
    "import matplotlib.pyplot as plt\n",
    "\n",
    "# Ensures the same random data is used each time you execute the code.\n",
    "np.random.seed(0)\n",
    "\n",
    "# This code will suppress all warnings in your notebook.\n",
    "import warnings\n",
    "warnings.filterwarnings('ignore')\n"
   ]
  },
  {
   "cell_type": "markdown",
   "metadata": {
    "id": "PPRLMMSTxtaT"
   },
   "source": [
    "#### 1. For the following examples, decide whether standardisation or normalisation makes more sense.\n",
    "  \n",
    "  \n",
    "  \n",
    "  a. You want to build a linear regression model to predict someone's grades, given how much time they spend on various activities during a typical school week.  You notice that your measurements for how much time students spend studying aren't normally distributed: some students spend almost no time studying, while others study for four or more hours daily. Should you standardise or normalise this variable?  \n",
    "\n",
    "  \n",
    "\n",
    "  b. You're still working with your student's grades, but you want to include information on how students perform on several fitness tests as well. You have information on how many jumping jacks and push-ups each student can complete in a minute. However, you notice that students perform far more jumping jacks than push-ups: the average for the former is 40, and for the latter only 10. Should you standardise or normalise these variables?"
   ]
  },
  {
   "cell_type": "markdown",
   "metadata": {
    "id": "yELHpZQ8xtaV"
   },
   "source": [
    "\n",
    "\n",
    "##### Answer for 1a:\n",
    "\n",
    "For the situation where you want to build a linear regression model to predict someone's grades based on how much time they spend on various activities during a typical school week, and you notice that the measurements for how much time students spend studying aren't normally distributed (with some students spending almost no time studying, while others study for four or more hours daily), normalization would be more appropriate. Normalization scales the values of a variable to a range between 0 and 1, preserving the relative differences in the data. This transformation ensures that the time spent studying is comparable to other variables in the regression model without biasing the model towards variables with larger scales.\n",
    "\n",
    "\n",
    "\n",
    "\n",
    "##### Answer for 1b:\n",
    "\n",
    "In this scenario, where you're incorporating information on how students perform on several fitness tests alongside their grades, and you observe that students perform far more jumping jacks than push-ups (with the average for the former being 40, and for the latter only 10), standardization would be more suitable. Standardization transforms the data to have a mean of 0 and a standard deviation of 1, making it easier to compare variables with different units and scales. Since the number of jumping jacks and push-ups is measured in different units and has different average values, standardizing these variables would ensure that they contribute equally to the model without being dominated by variables with larger scales."
   ]
  },
  {
   "cell_type": "markdown",
   "metadata": {
    "id": "47ivDo0RxtaW"
   },
   "source": [
    "\n",
    "\n",
    "#### 2. Visualise the \"EG.ELC.ACCS.ZS\" column from the countries dataset using a histogram. Then, scale the column using the appropriate scaling method (normalisation or standardisation). Finally, visualise the original and scaled data alongside each other. Note EG.ELC.ACCS.ZS is the percentage of the population with access to electricity."
   ]
  },
  {
   "cell_type": "code",
   "execution_count": null,
   "metadata": {
    "id": "g7ioJk-ux4VY"
   },
   "outputs": [],
   "source": []
  },
  {
   "cell_type": "code",
   "execution_count": null,
   "metadata": {
    "id": "4nnBLfBIxtaW",
    "outputId": "078247c7-ac19-4c3d-daf2-6a62b683be6d"
   },
   "outputs": [],
   "source": [
    "# Load countries data.\n",
    "countries = pd.read_csv(\"countries.csv\")\n",
    "\n",
    "# Display the first five observation.\n",
    "countries.head()"
   ]
  },
  {
   "cell_type": "code",
   "execution_count": null,
   "metadata": {
    "id": "v1aC6nlVxtaX",
    "outputId": "376662e7-aae7-4733-c401-e25b691c0a3b"
   },
   "outputs": [],
   "source": [
    "# Check the shape of your dataframe\n",
    "countries.shape"
   ]
  },
  {
   "cell_type": "code",
   "execution_count": null,
   "metadata": {
    "id": "6pd9TL40xtaX",
    "outputId": "b720ed1c-806f-4d4b-84ef-30a905adee8a"
   },
   "outputs": [],
   "source": [
    "# Extract the column and drop missing values\n",
    "data = countries['EG.ELC.ACCS.ZS'].dropna().values.reshape(-1, 1)"
   ]
  },
  {
   "cell_type": "code",
   "execution_count": null,
   "metadata": {
    "id": "vi9jHFVNxtaX"
   },
   "outputs": [],
   "source": [
    "# Initialize scaler and scale the data\n",
    "scaler = MinMaxScaler()\n",
    "scaled_data_countries = scaler.fit_transform(data)"
   ]
  },
  {
   "cell_type": "code",
   "execution_count": null,
   "metadata": {
    "id": "3SbZOsXTxtaX",
    "outputId": "f6cc6a11-e799-44e9-d884-8a0034f3365f"
   },
   "outputs": [],
   "source": [
    "# Visualise the original and scaled data alongside each other.\n",
    "fig, ax=plt.subplots(1,2)\n",
    "\n",
    "# Create a histogram of the original data.\n",
    "sns.histplot(countries['EG.ELC.ACCS.ZS'], ax=ax[0],kde=True)\n",
    "ax[0].set_title(\"Original Data\")\n",
    "\n",
    "# Create a histogram of the scale data.\n",
    "sns.histplot(scaled_data_countries, ax=ax[1],kde=True)\n",
    "ax[1].set_title(\"Scaled data\")"
   ]
  }
 ],
 "metadata": {
  "colab": {
   "provenance": []
  },
  "kernelspec": {
   "display_name": "Python 3",
   "language": "python",
   "name": "python3"
  },
  "language_info": {
   "codemirror_mode": {
    "name": "ipython",
    "version": 3
   },
   "file_extension": ".py",
   "mimetype": "text/x-python",
   "name": "python",
   "nbconvert_exporter": "python",
   "pygments_lexer": "ipython3",
   "version": "3.12.4"
  }
 },
 "nbformat": 4,
 "nbformat_minor": 0
}
